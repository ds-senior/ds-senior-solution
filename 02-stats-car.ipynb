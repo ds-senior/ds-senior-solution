{
 "cells": [
  {
   "cell_type": "markdown",
   "metadata": {},
   "source": [
    "# 자동차 판매량 영향인자 분석 "
   ]
  },
  {
   "cell_type": "markdown",
   "metadata": {},
   "source": [
    "특정 기간 일자별 자동차 판매량 데이터로, 프로모션 종류와 seller 정보 외의 다른 정보는 동일한 상황의 판매량 기록이다. \n",
    "\n",
    "data: `car_sales.csv` (구분자: comma(“,”), 22 Rows, 5 Columns)\n"
   ]
  },
  {
   "cell_type": "code",
   "execution_count": null,
   "metadata": {},
   "outputs": [],
   "source": [
    "import pandas as pd\n",
    "import scipy as sp\n",
    "from scipy import stats\n",
    "import numpy as np\n",
    "import matplotlib.pyplot as plt\n",
    "import seaborn as sns"
   ]
  },
  {
   "cell_type": "code",
   "execution_count": null,
   "metadata": {},
   "outputs": [],
   "source": [
    "# 데이터 로드 (car_sales.csv)\n"
   ]
  },
  {
   "cell_type": "code",
   "execution_count": null,
   "metadata": {},
   "outputs": [],
   "source": [
    "# 데이터 프레임 출력\n"
   ]
  },
  {
   "cell_type": "code",
   "execution_count": null,
   "metadata": {},
   "outputs": [],
   "source": [
    "# 메타 데이터 확인\n"
   ]
  },
  {
   "cell_type": "markdown",
   "metadata": {},
   "source": [
    "## Q 1"
   ]
  },
  {
   "cell_type": "markdown",
   "metadata": {},
   "source": [
    "```\n",
    "프로모션A, 프로모션B, 프로모션C를 각각 적용하였을 때의 \n",
    "판매량인 PromoA, PromoB, PromoC 와 sellerA,sellerB의 판매량인 sellerA, sellerB에 대해 \n",
    "정규성 검정을 수행한 후, 유의수준 5%에서 정규성 기각여부(기각이면 Y, 그렇지 않으면 N)를 기술하시오. \n",
    "\n",
    "Note. Kolmogorov-Smirnov test로 정규성 검정을 수행한다.\n",
    "(답안예시) NNNNN\n",
    "```"
   ]
  },
  {
   "cell_type": "code",
   "execution_count": null,
   "metadata": {},
   "outputs": [],
   "source": [
    "# 스케일 변환\n",
    "from sklearn.preprocessing import StandardScaler\n",
    "\n",
    "scaler = # 코드입력\n",
    "df_scaled = # 코드입력"
   ]
  },
  {
   "cell_type": "code",
   "execution_count": null,
   "metadata": {},
   "outputs": [],
   "source": [
    "PromoA = # 코드입력\n",
    "PromoB = # 코드입력\n",
    "PromoC = # 코드입력\n",
    "sellerA = # 코드입력\n",
    "sellerB = # 코드입력"
   ]
  },
  {
   "cell_type": "code",
   "execution_count": null,
   "metadata": {},
   "outputs": [],
   "source": [
    "# PromoA에 대한 Normality Test\n",
    "print( # 코드입력 )\n",
    "\n",
    "# PromoB에 대한 Normality Test\n",
    "print( # 코드입력 )\n",
    "\n",
    "# PromoC에 대한 Normality Test\n",
    "print( # 코드입력 )\n",
    "\n",
    "# sellerA에 대한 Normality Test\n",
    "print( # 코드입력 )\n",
    "\n",
    "# sellerB에 대한 Normality Test\n",
    "print( # 코드입력  )"
   ]
  },
  {
   "cell_type": "markdown",
   "metadata": {},
   "source": [
    "p-value가 모두 0.05보다 크다\n",
    "\n",
    "즉, H1을 기각하고, Normality (정규분포)를 따른다가 채택"
   ]
  },
  {
   "cell_type": "code",
   "execution_count": null,
   "metadata": {},
   "outputs": [],
   "source": [
    "fig, axes = plt.subplots(1, 5)\n",
    "fig.set_size_inches(15, 5)\n",
    "sns.histplot(PromoA, ax=axes[0])\n",
    "sns.histplot(PromoB, ax=axes[1])\n",
    "sns.histplot(PromoC, ax=axes[2])\n",
    "sns.histplot(sellerA, ax=axes[3])\n",
    "sns.histplot(sellerB, ax=axes[4])\n",
    "plt.show()"
   ]
  },
  {
   "cell_type": "markdown",
   "metadata": {},
   "source": [
    "**정답: YYYYY**"
   ]
  },
  {
   "cell_type": "markdown",
   "metadata": {},
   "source": [
    "## Q 2"
   ]
  },
  {
   "cell_type": "markdown",
   "metadata": {},
   "source": [
    "```\n",
    "sellerA, sellerB의 판매량인 sellerA, sellerB가 차이가 있는지 일자별 짝을 지어 검정하고자 한다. \n",
    "\n",
    "이전 문제의 정규성 검정의 결과를 토대로, 정규성을 띈다면 모수적 방법으로, \n",
    "그렇지 않다면 비모수적 방법으로 가설검정을 수행한 후, \n",
    "유의수준 5%에서 귀무가설 기각여부(기각이면 Y, 그렇지 않으면 N)를 기술하시오. \n",
    "\n",
    "(답안예시) N\n",
    "```"
   ]
  },
  {
   "cell_type": "markdown",
   "metadata": {},
   "source": [
    "2개의 샘플이 정규성을 띄는 경우 모수적 방법(parameteric method)으로 검증한다.\n",
    "\n",
    "[scipy.stats.ttest_rel](https://docs.scipy.org/doc/scipy/reference/generated/scipy.stats.ttest_rel.html)\n",
    "\n",
    "H1: 2 related or repeated samples have different average (expected) values."
   ]
  },
  {
   "cell_type": "code",
   "execution_count": null,
   "metadata": {},
   "outputs": [],
   "source": [
    "# 정규성을 띄므로 모수적 방법(parameteric method)으로 검증\n",
    "# 코드 입력"
   ]
  },
  {
   "cell_type": "markdown",
   "metadata": {},
   "source": [
    "pvalue가 0.05보다 크므로 H1를 기각한다.\n",
    "\n",
    "sellerA와 sellerB의 차이는 없다가 채택"
   ]
  },
  {
   "cell_type": "markdown",
   "metadata": {},
   "source": [
    "**정답: Y**"
   ]
  }
 ],
 "metadata": {
  "kernelspec": {
   "display_name": "Python 3",
   "language": "python",
   "name": "python3"
  },
  "language_info": {
   "codemirror_mode": {
    "name": "ipython",
    "version": 3
   },
   "file_extension": ".py",
   "mimetype": "text/x-python",
   "name": "python",
   "nbconvert_exporter": "python",
   "pygments_lexer": "ipython3",
   "version": "3.7.4"
  }
 },
 "nbformat": 4,
 "nbformat_minor": 5
}
