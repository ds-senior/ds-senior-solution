{
 "cells": [
  {
   "cell_type": "markdown",
   "metadata": {},
   "source": [
    "# 출국자수 예측"
   ]
  },
  {
   "cell_type": "markdown",
   "metadata": {},
   "source": [
    "여행사에서 분석 업무를 담당하는 동현이는 해외 여러 나라의 여행상품을 기획하기 위해, 월별 해외여행 수요를 예측하고자 한다. \n",
    "\n",
    "수요가 많은 시즌에는 더 많은 상품을 구성하고 비수기에는 적은 인원대상의 상품이나 상품의 개수를 줄이려고 한다. \n",
    "월별 출국자수 정보를 활용하여 분석을 시작해보자.\n",
    "\n",
    "data: `63_py_Korean_outbound_travelers.csv` (구분자: comma(“,”), 42 Rows, 13 Columns)"
   ]
  },
  {
   "cell_type": "code",
   "execution_count": null,
   "metadata": {},
   "outputs": [],
   "source": [
    "import pandas as pd\n",
    "import scipy as sp\n",
    "from scipy import stats\n",
    "import numpy as np\n",
    "import matplotlib.pyplot as plt\n",
    "import seaborn as sns\n",
    "import warnings\n",
    "\n",
    "warnings.filterwarnings('ignore')"
   ]
  },
  {
   "cell_type": "code",
   "execution_count": null,
   "metadata": {},
   "outputs": [],
   "source": [
    "# 데이터 로드\n"
   ]
  },
  {
   "cell_type": "code",
   "execution_count": null,
   "metadata": {},
   "outputs": [],
   "source": [
    "# 데이터 프레임 출력\n"
   ]
  },
  {
   "cell_type": "code",
   "execution_count": null,
   "metadata": {},
   "outputs": [],
   "source": [
    "# 메타 데이터 확인\n"
   ]
  },
  {
   "cell_type": "markdown",
   "metadata": {},
   "source": [
    "## Q 1"
   ]
  },
  {
   "cell_type": "markdown",
   "metadata": {},
   "source": [
    "```\n",
    "데이터를 아래와 같이, 기준년월과 출국자수 형태로 바꾸고, \n",
    "2015년의 출국자와 2016년의 출국자수 차이를 구하시오. 차이는 절대값으로 구한다. \n",
    "\n",
    "컬럼\t             정의\t             Type\n",
    "std_ym\t\t기준년월 (ex: 201501) \tString\n",
    "travelers\t여행객수\tDouble\n",
    "```"
   ]
  },
  {
   "cell_type": "code",
   "execution_count": null,
   "metadata": {},
   "outputs": [],
   "source": [
    "# 데이터 차원\n",
    "df.shape"
   ]
  },
  {
   "cell_type": "code",
   "execution_count": null,
   "metadata": {},
   "outputs": [],
   "source": [
    "# 42개의 row, 12개의 컬럼 (1월 ~ 12월)\n",
    "42 * 12"
   ]
  },
  {
   "cell_type": "code",
   "execution_count": null,
   "metadata": {},
   "outputs": [],
   "source": [
    "# 기준년월(std_ym)과 출국자수(travelers)의 데이터 추출\n",
    "std_ym = []\n",
    "travelers = []\n",
    "\n",
    "# 코드입력\n",
    "        \n",
    "        \n",
    "print(travelers[:5])\n",
    "print(std_ym[:5])"
   ]
  },
  {
   "cell_type": "code",
   "execution_count": null,
   "metadata": {},
   "outputs": [],
   "source": [
    "# 새로운 데이터 프레임 생성\n",
    "df_new = # 코드입력\n",
    "df_new"
   ]
  },
  {
   "cell_type": "code",
   "execution_count": null,
   "metadata": {},
   "outputs": [],
   "source": [
    "# 2015년의 출국자와 2016년의 출국자수 차이를 구한다\n",
    "df.# 코드입력"
   ]
  },
  {
   "cell_type": "code",
   "execution_count": null,
   "metadata": {},
   "outputs": [],
   "source": [
    "# 차이는 절대값으로 구한다\n"
   ]
  },
  {
   "cell_type": "markdown",
   "metadata": {},
   "source": [
    "**정답: 3072760**"
   ]
  },
  {
   "cell_type": "markdown",
   "metadata": {},
   "source": [
    "## Q 2"
   ]
  },
  {
   "cell_type": "markdown",
   "metadata": {},
   "source": [
    "```\n",
    "2015년 12월까지의 여행객수로 Seasonality가 12인 Holt-Winters의 additive 모델을 학습하고, \n",
    "2016년 월별 여행객수를 예측할 때, 아래의 값을 구하시오. \n",
    "\n",
    "아래의 At는 Actual Value, Ft는 Forecasted Value를 의미한다. \n",
    "소수점 넷째 자리에서 반올림 하여 셋째 자리까지 기술하시오.\n",
    "\n",
    "(답안예시) 1.234\n",
    "```"
   ]
  },
  {
   "cell_type": "code",
   "execution_count": null,
   "metadata": {},
   "outputs": [],
   "source": [
    "# 2015년 12월까지의 데이터 추출\n",
    "df_2015 = # 코드입력\n"
   ]
  },
  {
   "cell_type": "markdown",
   "metadata": {},
   "source": [
    "[Holt’s Winters Seasonal](https://www.statsmodels.org/stable/examples/notebooks/generated/exponential_smoothing.html)"
   ]
  },
  {
   "cell_type": "code",
   "execution_count": null,
   "metadata": {},
   "outputs": [],
   "source": [
    "from statsmodels.tsa.api import ExponentialSmoothing\n",
    "\n",
    "# Holt-Winters의 additive 모델을 학습\n",
    "model = # 코드입력\n"
   ]
  },
  {
   "cell_type": "code",
   "execution_count": null,
   "metadata": {},
   "outputs": [],
   "source": [
    "# forecasted values\n",
    "forecasted_values = # 코드입력\n"
   ]
  },
  {
   "cell_type": "code",
   "execution_count": null,
   "metadata": {},
   "outputs": [],
   "source": [
    "# actual values\n",
    "actual_values = # 코드입력\n"
   ]
  },
  {
   "cell_type": "code",
   "execution_count": null,
   "metadata": {},
   "outputs": [],
   "source": [
    "N = 12\n",
    "\n",
    "# 코드 입력\n"
   ]
  },
  {
   "cell_type": "markdown",
   "metadata": {},
   "source": [
    "**정답: 4.486**"
   ]
  },
  {
   "cell_type": "markdown",
   "metadata": {},
   "source": [
    "## Q 3"
   ]
  },
  {
   "cell_type": "markdown",
   "metadata": {},
   "source": [
    "```\n",
    "X축에는 std_ym, 세로축에는 색상을 구분하여 Actual Value와 Forecasted Value에 대한 라인차트를 그리시오. \n",
    "Actual Value는 전체 기간에 대해, Forecasted Value는 201601~201612에 대해 그린다.\n",
    "```"
   ]
  },
  {
   "cell_type": "code",
   "execution_count": null,
   "metadata": {},
   "outputs": [],
   "source": [
    "chart = pd.DataFrame({'std_ym':df_new.iloc[-12:, 0], \n",
    "                      'actual': actual_values, \n",
    "                      'forecast': forecasted_values,\n",
    "                     })\n",
    "chart"
   ]
  },
  {
   "cell_type": "code",
   "execution_count": null,
   "metadata": {},
   "outputs": [],
   "source": [
    "fig, ax = plt.subplots()\n",
    "fig.set_size_inches(14, 6)\n",
    "# 코드입력\n",
    "sns. # 코드입력\n",
    "sns. # 코드입력\n",
    "start, end = ax.get_xlim()\n",
    "ax.xaxis.set_ticks(np.arange(start, end, 50))\n",
    "plt.show()"
   ]
  }
 ],
 "metadata": {
  "kernelspec": {
   "display_name": "Python 3",
   "language": "python",
   "name": "python3"
  },
  "language_info": {
   "codemirror_mode": {
    "name": "ipython",
    "version": 3
   },
   "file_extension": ".py",
   "mimetype": "text/x-python",
   "name": "python",
   "nbconvert_exporter": "python",
   "pygments_lexer": "ipython3",
   "version": "3.7.4"
  }
 },
 "nbformat": 4,
 "nbformat_minor": 5
}
