{
 "cells": [
  {
   "cell_type": "markdown",
   "metadata": {},
   "source": [
    "# 항공사고 건수 예측"
   ]
  },
  {
   "cell_type": "markdown",
   "metadata": {},
   "source": [
    "1908년부터 2000년까지 수집한 전 세계 항공 사고 데이터를 사용하여 분석을 진행한다. \n",
    "해당 데이터는 전 세계의 민간, 물류 및 군용 비행기 관련 사고 정보를 모두 포함하고 있으며 사고가 발생한 비행기의 종류와 항공 운영국, 사고의 원인에 대한 간략한 설명 등을 포함하고 있다. 데이터에 대한 명세는 아래 표와 같다.\n",
    "\n",
    "data: `Airplane_Crashes.csv` (구분자: tab, 4,761 Rows, 8 Columns)\n"
   ]
  },
  {
   "cell_type": "code",
   "execution_count": null,
   "metadata": {},
   "outputs": [],
   "source": [
    "import pandas as pd\n",
    "import scipy as sp\n",
    "from scipy import stats\n",
    "import numpy as np\n",
    "import matplotlib.pyplot as plt\n",
    "import seaborn as sns\n",
    "import warnings\n",
    "from IPython.display import Image\n",
    "\n",
    "warnings.filterwarnings('ignore')"
   ]
  },
  {
   "cell_type": "code",
   "execution_count": null,
   "metadata": {},
   "outputs": [],
   "source": [
    "# 데이터 로드 & 데이터 프레임 출력\n"
   ]
  },
  {
   "cell_type": "code",
   "execution_count": null,
   "metadata": {},
   "outputs": [],
   "source": [
    "# 메타 데이터 확인\n"
   ]
  },
  {
   "cell_type": "markdown",
   "metadata": {},
   "source": [
    "## Q 1"
   ]
  },
  {
   "cell_type": "markdown",
   "metadata": {},
   "source": [
    "```\n",
    "(전처리) (Airplane_Crashes.csv를 사용하여) 먼저 항공 사고의 추이가 연(year) 단위로 어떻게 변화하는지 분석하고자 한다. \n",
    "\n",
    "주어진 데이터셋에서 각 행은 한 건의 항공 사고 정보를 포함하며, \n",
    "각 행이 연간 항공 사고 정보를 포함하는 형태로 데이터셋을 변환하기 위해 다음 지시에 따라 전처리를 수행하시오. \n",
    "```"
   ]
  },
  {
   "cell_type": "markdown",
   "metadata": {},
   "source": [
    "```\n",
    "Step 1. 세 개 컬럼 ‘Aboard, Fatalities, Ground’에서 결측치(null/na/NaN)를 0으로 대체하시오.\n",
    "```"
   ]
  },
  {
   "cell_type": "code",
   "execution_count": null,
   "metadata": {},
   "outputs": [],
   "source": [
    "# 결측치 확인\n",
    "df[['Aboard', 'Fatalities', 'Ground']].# 코드입력"
   ]
  },
  {
   "cell_type": "code",
   "execution_count": null,
   "metadata": {},
   "outputs": [],
   "source": [
    "# 결측치 처리 - 0 으로 대체\n",
    "df[['Aboard', 'Fatalities', 'Ground']] = df[['Aboard', 'Fatalities', 'Ground']].# 코드입력"
   ]
  },
  {
   "cell_type": "code",
   "execution_count": null,
   "metadata": {},
   "outputs": [],
   "source": [
    "df[['Aboard', 'Fatalities', 'Ground']].# 코드입력"
   ]
  },
  {
   "cell_type": "markdown",
   "metadata": {},
   "source": [
    "```\n",
    "Step 2. ‘월/일/년’의 표기형식을 따르는 날짜(Date) 컬럼을 참고하여 연도(변수명: Year) 컬럼을 생성하시오.\n",
    "```"
   ]
  },
  {
   "cell_type": "code",
   "execution_count": null,
   "metadata": {},
   "outputs": [],
   "source": [
    "# 데이터 컬럼 변환\n",
    "pd.# 코드입력"
   ]
  },
  {
   "cell_type": "code",
   "execution_count": null,
   "metadata": {},
   "outputs": [],
   "source": [
    "# 연도 데이터 추출 \n",
    "pd.# 코드입력"
   ]
  },
  {
   "cell_type": "code",
   "execution_count": null,
   "metadata": {},
   "outputs": [],
   "source": [
    "# 연도 컬럼 생성\n",
    "year = pd.# 코드입력"
   ]
  },
  {
   "cell_type": "markdown",
   "metadata": {},
   "source": [
    "```\n",
    "Step 3. 연도(Year) 별 사고 횟수, 총 탑승자 수, 총 사망자 수를 집계한다. 그 결과 아래 표와 같은 데이터 셋이 생성된다\n",
    "\n",
    "위의 전처리 과정을 모두 완료한 후, 데이터셋 ‘basetable_1’(89 rows)로 저장한다.\n",
    "```"
   ]
  },
  {
   "cell_type": "markdown",
   "metadata": {},
   "source": [
    "![img-0002.png](images/img-0002.png)"
   ]
  },
  {
   "cell_type": "code",
   "execution_count": null,
   "metadata": {},
   "outputs": [],
   "source": [
    "# Aboard, Fatalities에 대하여 저장\n",
    "stats = df.# 코드입력\n",
    "stats"
   ]
  },
  {
   "cell_type": "code",
   "execution_count": null,
   "metadata": {},
   "outputs": [],
   "source": [
    "# count를 구한다\n",
    "count = df.# 코드입력\n",
    "count"
   ]
  },
  {
   "cell_type": "code",
   "execution_count": null,
   "metadata": {},
   "outputs": [],
   "source": [
    "# basetable_1로 저장한다.\n",
    "# 코드입력"
   ]
  },
  {
   "cell_type": "markdown",
   "metadata": {},
   "source": [
    "## Q 1"
   ]
  },
  {
   "cell_type": "markdown",
   "metadata": {},
   "source": [
    "```\n",
    "(basetable_1을 사용하여) 먼저 데이터셋에 대해 간단한 EDA를 수행하고자 한다. \n",
    "\n",
    "다음 수식에 따라 '연간 항공 사고 사망률' 컬럼(변수명: Yearly_Ratio)을 추가하고, \n",
    "'연간 항공 사고 사망률'의 평균과 표준편차를 구한 후, 그 두 값을 더한 값을 기술하시오.\n",
    "\n",
    "Yearly_Ratio = (Yearly_Fatalities)/(Yearly_Aboard)\n",
    "\n",
    "-\t표준편차는 표본표준편차가 아닌, 모표준편차를 구하시오.\n",
    "-\t평균과 표준편차의 더한 값은 소수점 셋째 자리 이하는 버리고 소수점 둘째 자리까지 기술하시오. \n",
    "```"
   ]
  },
  {
   "cell_type": "code",
   "execution_count": null,
   "metadata": {},
   "outputs": [],
   "source": [
    "basetable_1['Yearly_Fatalities'] / basetable_1['Yearly_Aboard']"
   ]
  },
  {
   "cell_type": "code",
   "execution_count": null,
   "metadata": {},
   "outputs": [],
   "source": [
    "# 수식에 따라 '연간 항공 사고 사망률' 컬럼(변수명: Yearly_Ratio)을 추가\n",
    "basetable_1['Yearly_Ratio'] = # 코드입력"
   ]
  },
  {
   "cell_type": "code",
   "execution_count": null,
   "metadata": {},
   "outputs": [],
   "source": [
    "# 연간 항공 사고 사망률'의 평균과 표준편차를 구한 후, 그 두 값을 더한 값을 기술\n",
    "# 코드입력\n"
   ]
  },
  {
   "cell_type": "markdown",
   "metadata": {},
   "source": [
    "**정답: 0.89**"
   ]
  },
  {
   "cell_type": "markdown",
   "metadata": {},
   "source": [
    "## Q 2"
   ]
  },
  {
   "cell_type": "markdown",
   "metadata": {},
   "source": [
    "```\n",
    "항공사고가 발생하지 않아 데이터 상에서 제외된 연도가 있다 \n",
    "\n",
    "1908~2000년의 데이터 중, 제외된 연도를 추가하여 해당 연도의 사고 횟수(Count)를 0으로 입력한다. \n",
    "(Note. 완료 시, 총 데이터 수는 89개에서 93개로 증가) \n",
    "\n",
    "이어서 연도(Year) 컬럼을 기준으로 데이터를 오름차순 정렬한다.\n",
    "\n",
    "위의 전처리 과정을 완료한 후, 데이터셋 ‘basetable_2’로 저장한다.\n",
    "```"
   ]
  },
  {
   "cell_type": "code",
   "execution_count": null,
   "metadata": {},
   "outputs": [],
   "source": [
    "# basetable_1 확인\n",
    "basetable_1"
   ]
  },
  {
   "cell_type": "code",
   "execution_count": null,
   "metadata": {},
   "outputs": [],
   "source": [
    "# period_range() 활용하여 연도 인덱스 추출\n",
    "year_index = pd.# 코드입력\n",
    "year_index"
   ]
  },
  {
   "cell_type": "code",
   "execution_count": null,
   "metadata": {},
   "outputs": [],
   "source": [
    "# year_index를 활용하여 데이터 프레임 생성\n",
    "df_year = pd.# 코드입력\n",
    "df_year"
   ]
  },
  {
   "cell_type": "code",
   "execution_count": null,
   "metadata": {},
   "outputs": [],
   "source": [
    "# year 칼럼 전처리\n",
    "df_year['Year'] = df_year['Year'].# 코드입력\n",
    "basetable_1['Year'] = basetable_1['Year'].# 코드입력"
   ]
  },
  {
   "cell_type": "code",
   "execution_count": null,
   "metadata": {},
   "outputs": [],
   "source": [
    "# 데이터 프레임 병합\n",
    "basetable_2 = pd.# 코드입력\n",
    "basetable_2"
   ]
  },
  {
   "cell_type": "code",
   "execution_count": null,
   "metadata": {},
   "outputs": [],
   "source": [
    "# 결측치 처리\n",
    "basetable_2 = basetable_2.# 코드입력\n",
    "basetable_2"
   ]
  },
  {
   "cell_type": "markdown",
   "metadata": {},
   "source": [
    "```\n",
    "(basetable_2를 사용하여) 이번 문제에서는 다양한 평활 기법 (smoothing)을 활용하여 사고 횟수(Count)를 예측하고자 한다.\n",
    "\n",
    "사고 횟수(Count)에 적용할 평활 기법은 \n",
    "(1) Simple Moving Average \n",
    "(2) Weighted Moving Average\n",
    "(3) Exponential Moving Average 입니다. \n",
    "\n",
    "함수 가이드\n",
    "\n",
    "DataFrame.ewm() 함수 사용\n",
    "- adjust=False\n",
    "문제 지시사항 외 default 파라미터 사용\n",
    "\n",
    "\n",
    "예측 모델 생성 시 필요한 parameter의 명세는 다음 표를 참고하시오.\n",
    "```"
   ]
  },
  {
   "cell_type": "markdown",
   "metadata": {},
   "source": [
    "![img-0003.png](images/img-0003.png)"
   ]
  },
  {
   "cell_type": "markdown",
   "metadata": {},
   "source": [
    "```\n",
    "Step 1. Simple Moving Average, Weighted Moving Average는 window size가 k일 때, \n",
    "최근 k개(t-k+1, … , t시점)의 데이터로부터 t+1 시점 값을 예측한다. (그림 1 참고)\n",
    "\n",
    "'평활 기법별 파라미터 가이드'에 따라 시점별 예측값을 생성한다. \n",
    "(Note. 예측값은 Simple Moving Average의 경우 88개, Weighted Moving Average의 경우 90개가 생성된다.)\n",
    "```"
   ]
  },
  {
   "cell_type": "markdown",
   "metadata": {},
   "source": [
    "![img-0004.png](images/img-0004.png)"
   ]
  },
  {
   "cell_type": "code",
   "execution_count": null,
   "metadata": {},
   "outputs": [],
   "source": [
    "# Simple Moving Average의 경우 88개\n",
    "simple_moving_avg = # 코드입력\n",
    "simple_moving_avg"
   ]
  },
  {
   "cell_type": "code",
   "execution_count": null,
   "metadata": {},
   "outputs": [],
   "source": [
    "# Weighted Moving Average의 경우 90개가 생성\n",
    "weights = np.array([0.5, 0.25, 0.25])\n",
    "weighted_moving_avg = # 코드입력\n",
    "weighted_moving_avg"
   ]
  },
  {
   "cell_type": "markdown",
   "metadata": {},
   "source": [
    "```\n",
    "Step 2. Exponential Moving Average는 t시점의 실제 값과 예측 값으로 t+1시점 값을 예측한다.\n",
    "'평활 기법별 파라미터 가이드'에 따라 시점별 예측값을 생성한다. (Note. 예측값은 92개가 생성된다.)\n",
    "```"
   ]
  },
  {
   "cell_type": "code",
   "execution_count": null,
   "metadata": {},
   "outputs": [],
   "source": [
    "# Exponential Moving Average\n",
    "exponential_moving_avg = # 코드입력\n",
    "exponential_moving_avg"
   ]
  },
  {
   "cell_type": "markdown",
   "metadata": {},
   "source": [
    "```\n",
    "Step 3. 각 방법론에 따라 생성된 모델을 평가하기 위해 MAE(Mean Absolute Error)를 평가 지표로 사용한다. MAE는 편차의 절대값에 대한 평균으로, 이 값이 작을수록 좋은 성능의 평활 모델이라고 볼 수 있다. (아래 식 참고, f : 예측값, y: 실제값)\n",
    "\n",
    "세 가지 방법론에 대한 MAE를 계산하고, 이 값이 가장 작은 방법론의 MAE를 기술하시오.\n",
    "\n",
    "-\t각 방법론 사용 결과 예측값이 없는 값, 즉 window size 만큼의 결측치를 제거한 후 MAE를 계산하시오. \n",
    "Simple Moving Average의 경우 88개\n",
    "Weighted Moving Average의 경우 90개, \n",
    "Exponential Moving Average의 경우 92개 \n",
    "예측값을 활용하여 MAE를 계산한다.\n",
    "\n",
    "-\tMAE는 소수점 넷째 자리 이하는 버리고 소수점 셋째 자리까지 기술하시오.\n",
    " (답안 예시) 5.012\n",
    "```"
   ]
  },
  {
   "cell_type": "markdown",
   "metadata": {},
   "source": [
    "![mae error](https://datavedas.com/wp-content/uploads/2018/04/image017.png)"
   ]
  },
  {
   "cell_type": "code",
   "execution_count": null,
   "metadata": {},
   "outputs": [],
   "source": [
    "# basetable_2에 칼럼 추가\n",
    "basetable_2['simple_moving_avg'] = simple_moving_avg\n",
    "basetable_2['weighted_moving_avg'] = weighted_moving_avg\n",
    "basetable_2['exponential_moving_avg'] = exponential_moving_avg"
   ]
  },
  {
   "cell_type": "code",
   "execution_count": null,
   "metadata": {},
   "outputs": [],
   "source": [
    "basetable_2.head()"
   ]
  },
  {
   "cell_type": "code",
   "execution_count": null,
   "metadata": {},
   "outputs": [],
   "source": [
    "basetable_2.loc[basetable_2['simple_moving_avg'].notnull(), ['Count', 'simple_moving_avg']]"
   ]
  },
  {
   "cell_type": "code",
   "execution_count": null,
   "metadata": {},
   "outputs": [],
   "source": [
    "# MAE(Mean Absolute Error) 함수 작성\n",
    "from sklearn.metrics import mean_absolute_error\n",
    "\n",
    "def mae(col_name):\n",
    "    x = basetable_2.loc[basetable_2[col_name].notnull(), ['Count', col_name]]\n",
    "    return mean_absolute_error(x.iloc[:, 0], x.iloc[:, 1]).round(3)"
   ]
  },
  {
   "cell_type": "code",
   "execution_count": null,
   "metadata": {},
   "outputs": [],
   "source": [
    "# simple_moving_avg\n",
    "mae('simple_moving_avg')"
   ]
  },
  {
   "cell_type": "code",
   "execution_count": null,
   "metadata": {},
   "outputs": [],
   "source": [
    "# weighted_moving_avg\n",
    "mae('weighted_moving_avg')"
   ]
  },
  {
   "cell_type": "code",
   "execution_count": null,
   "metadata": {},
   "outputs": [],
   "source": [
    "# exponential_moving_avg\n",
    "mae('exponential_moving_avg')"
   ]
  },
  {
   "cell_type": "markdown",
   "metadata": {},
   "source": [
    "## Q 3"
   ]
  },
  {
   "cell_type": "markdown",
   "metadata": {},
   "source": [
    "```\n",
    "(basetable_2를 사용하여) 다음으로 ARIMA(Auto-Regressive Integrated Moving Average) 기법을 활용하여 사고 횟수(Count) 예측 모델을 생성한다.\n",
    "\n",
    "ARIMA는 AR모델과 MA모델 그리고 차분의 개념을 포함하는 모델로서, ARIMA 모델을 학습하기 위해서는 세 가지 주요 파라미터 \n",
    "'AR 모델의 차수(p)', '차분의 횟수(d)', 'MA 모델의 차수(q)'를 설정해주어야 한다.\n",
    " ```"
   ]
  },
  {
   "cell_type": "markdown",
   "metadata": {},
   "source": [
    "![img-0005.png](images/img-0005.png)"
   ]
  },
  {
   "cell_type": "markdown",
   "metadata": {},
   "source": [
    "```\n",
    "ARIMA모델을 학습하기 위해서는 먼저 적절한 p, d, q를 결정한다. \n",
    "이를 위해, 연도(Year)를 기준으로 오름차순 정렬된 basetable_2의 첫 65개 데이터를 사용하여 다음의 지시대로 수행하시오.\n",
    "```"
   ]
  },
  {
   "cell_type": "code",
   "execution_count": null,
   "metadata": {},
   "outputs": [],
   "source": [
    "# basetable의 첫 65개 데이터 추출\n",
    "df_arima = # 코드입력\n"
   ]
  },
  {
   "cell_type": "markdown",
   "metadata": {},
   "source": [
    "```\n",
    "- (d의 설정) 차분의 횟수는 반복적인 정상성 검정에 의해 결정된다.  \n",
    "'Augmented Dickey-Fuller Unit Root Test'를 통해 정상성 조건이 만족(유의 수준(Significance level)을 0.05)될 때까지 차분을 수행하고, 이 때 진행한 최소 차분의 횟수를 d로 설정한다.\n",
    "\n",
    "from statsmodels.tsa.stattools import adfuller 사용\n",
    "문제 지시사항 외 default 파라미터 사용\n",
    "\n",
    "- (p,q의 설정) AR, MA 모델의 차수는 d회 차분된 데이터에 대해 ‘편자기상관 함수(Partial Autocorrelation Function, PACF)’, ‘자기상관 함수(Autocorrelation Function, ACF)’를 활용하여 구한다. \n",
    "\n",
    "from statsmodels.graphics.tsaplots import plot_pacf 사용\n",
    "from statsmodels.graphics.tsaplots import plot_acf 사용\n",
    "문제 지시사항 외 default 파라미터 사용\n",
    "```"
   ]
  },
  {
   "cell_type": "markdown",
   "metadata": {},
   "source": [
    "[from statsmodels.tsa.stattools import adfuller](https://www.statsmodels.org/stable/generated/statsmodels.tsa.stattools.adfuller.html)\n",
    "\n",
    "- Null Hypothesis (H0): If failed to be rejected, it suggests the time series has a unit root, meaning it is non-stationary. It has some time dependent structure.\n",
    "- Alternate Hypothesis (H1): The null hypothesis is rejected; it suggests the time series does not have a unit root, meaning it is stationary. It does not have time-dependent structure.\n",
    "\n",
    "요약\n",
    "- non-stationary: time-dependent 하다.\n",
    "- stationary: time-dependent 하지 않다."
   ]
  },
  {
   "cell_type": "code",
   "execution_count": null,
   "metadata": {},
   "outputs": [],
   "source": [
    "# 사고횟수 Count 데이터\n",
    "df_arima['Count']"
   ]
  },
  {
   "cell_type": "code",
   "execution_count": null,
   "metadata": {},
   "outputs": [],
   "source": [
    "# 시각화\n",
    "plt.plot(df_arima['Count'])"
   ]
  },
  {
   "cell_type": "code",
   "execution_count": null,
   "metadata": {},
   "outputs": [],
   "source": [
    "from statsmodels.tsa.stattools import adfuller"
   ]
  },
  {
   "cell_type": "code",
   "execution_count": null,
   "metadata": {},
   "outputs": [],
   "source": [
    "# p-value <= 0.05인경우 H1채택, stationary(no time-dependent) / 차분이 필요 없게 되며, d=0이다\n",
    "# p-value > 0.05인경우, H0채택, non-stationary(time-dependent) / 차분이 필요하다.\n",
    "result = # 코드입력\n",
    "print('ADF Statistic: %f' % result[0])\n",
    "print('p-value: %f' % result[1])\n",
    "print('Critical Values:')\n",
    "for key, value in result[4].items():\n",
    "    print('\\t%s: %.3f' % (key, value))\n"
   ]
  },
  {
   "cell_type": "code",
   "execution_count": null,
   "metadata": {},
   "outputs": [],
   "source": [
    "# 1차 차분된 결과 이며 Augmented Dickey-Fuller Test를 적용한 결과\n",
    "diff_1 = # 코드입력\n",
    "plt.plot(diff_1)"
   ]
  },
  {
   "cell_type": "code",
   "execution_count": null,
   "metadata": {},
   "outputs": [],
   "source": [
    "# p-value 확인 \n"
   ]
  },
  {
   "cell_type": "markdown",
   "metadata": {},
   "source": [
    "p-value가 0.05보다 작으므로 1차 차분(d=1) 채택"
   ]
  },
  {
   "cell_type": "code",
   "execution_count": null,
   "metadata": {},
   "outputs": [],
   "source": [
    "# 2차 차분된 결과 이며 Augmented Dickey-Fuller Test를 적용한 결과\n",
    "diff_2 = # 코드입력\n",
    "plt.plot(diff_2)\n"
   ]
  },
  {
   "cell_type": "code",
   "execution_count": null,
   "metadata": {},
   "outputs": [],
   "source": [
    "# p-value 확인\n"
   ]
  },
  {
   "cell_type": "markdown",
   "metadata": {},
   "source": [
    "p-value > 0.05이므로 H1를 채택한다.\n",
    "\n",
    "H0 = time series data is stationary (time-dependent)\n",
    "\n",
    "즉, 시계열 데이터(Count)가 non-stationary 이며 시간에 dependent 함을 의미한다."
   ]
  },
  {
   "cell_type": "code",
   "execution_count": null,
   "metadata": {},
   "outputs": [],
   "source": [
    "# Autocorrelation & Partial Autocorrelation\n",
    "from statsmodels.graphics.tsaplots import plot_acf, plot_pacf\n",
    "\n",
    "plot_acf(diff_1)\n",
    "plot_pacf(diff_1)\n",
    "plt.show()"
   ]
  },
  {
   "cell_type": "markdown",
   "metadata": {},
   "source": [
    "```\n",
    "이제 위에서 결정한 p, d, q 를 이용해 ARIMA 모델을 학습하고, 사고 횟수(Count)를 예측하겠습니다. 총 93개의 데이터 중, p, d, q를 결정하는데 사용되지 않은 28개 데이터에 대한 예측을 다음 방법으로 수행하시오\n",
    "- (예측방법) 사고 횟수(Count) 컬럼의 첫 번째부터 (65+i-1)번째까지의 실제값 데이터로 ARIMA(p, d, q) 모델 생성 후, (65+i)번째 데이터 예측한다.(1≤i≤28) 즉, 이전 시점까지의 실제데이터를 이용하여 해당 시점의 값을 예측하는 작업을 28회 반복한다.\n",
    "\n",
    "```"
   ]
  },
  {
   "cell_type": "code",
   "execution_count": null,
   "metadata": {},
   "outputs": [],
   "source": [
    "from statsmodels.tsa.arima_model import ARIMA "
   ]
  },
  {
   "cell_type": "code",
   "execution_count": null,
   "metadata": {},
   "outputs": [],
   "source": [
    "# 1차 차분을 적용하여, stationary인 d=0을 적용.\n",
    "model = ARIMA(df_arima['Count'], order=(1,1,1))\n",
    "model_fit = model.fit()"
   ]
  },
  {
   "cell_type": "code",
   "execution_count": null,
   "metadata": {},
   "outputs": [],
   "source": [
    "# 시각화: Actual vs Forecast\n",
    "model_fit.plot_predict(dynamic=False)\n",
    "plt.show()"
   ]
  },
  {
   "cell_type": "code",
   "execution_count": null,
   "metadata": {},
   "outputs": [],
   "source": [
    "counts = df_arima['Count'].tolist()\n",
    "\n",
    "# 8개 데이터에 대한 예측을 다음 방법으로 수행하시오\n",
    "# (예측방법) 사고 횟수(Count) 컬럼의 첫 번째부터 (65+i-1)번째까지의 실제값 데이터로 ARIMA(p, d, q) 모델 생성 후, \n",
    "# (65+i)번째 데이터 예측한다.(1≤i≤28) \n",
    "# 즉, 이전 시점까지의 실제데이터를 이용하여 해당 시점의 값을 예측하는 작업을 28회 반복\n",
    "# 코드입력\n",
    "    \n",
    "len(counts)\n",
    "counts[-5:]"
   ]
  },
  {
   "cell_type": "code",
   "execution_count": null,
   "metadata": {},
   "outputs": [],
   "source": [
    "# 시각화\n",
    "plt.plot(basetable_2.iloc[65:]['Count'].values, label='actual')\n",
    "plt.plot(counts[65:], label='forecast')\n",
    "plt.legend()\n",
    "plt.show()"
   ]
  },
  {
   "cell_type": "code",
   "execution_count": null,
   "metadata": {},
   "outputs": [],
   "source": [
    "from sklearn.metrics import mean_squared_error\n",
    "\n",
    "# 코드입력"
   ]
  },
  {
   "cell_type": "markdown",
   "metadata": {},
   "source": [
    "**정답: 147.86**"
   ]
  }
 ],
 "metadata": {
  "kernelspec": {
   "display_name": "Python 3",
   "language": "python",
   "name": "python3"
  },
  "language_info": {
   "codemirror_mode": {
    "name": "ipython",
    "version": 3
   },
   "file_extension": ".py",
   "mimetype": "text/x-python",
   "name": "python",
   "nbconvert_exporter": "python",
   "pygments_lexer": "ipython3",
   "version": "3.7.4"
  }
 },
 "nbformat": 4,
 "nbformat_minor": 5
}
