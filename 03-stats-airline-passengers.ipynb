{
 "cells": [
  {
   "cell_type": "markdown",
   "metadata": {},
   "source": [
    "# 비행기 탑승자수 분석 "
   ]
  },
  {
   "cell_type": "markdown",
   "metadata": {},
   "source": [
    "월별 비행기 탑승자수 정보이다. \n",
    "\n",
    "data: `airline_passengers.csv` (구분자: comma(“,”), 144 Rows, 2 Columns)\n"
   ]
  },
  {
   "cell_type": "code",
   "execution_count": null,
   "metadata": {},
   "outputs": [],
   "source": [
    "import pandas as pd\n",
    "import scipy as sp\n",
    "from scipy import stats\n",
    "import numpy as np\n",
    "import matplotlib.pyplot as plt\n",
    "import seaborn as sns"
   ]
  },
  {
   "cell_type": "code",
   "execution_count": null,
   "metadata": {},
   "outputs": [],
   "source": [
    "# 데이터 로드 (airline_passengers.csv)\n"
   ]
  },
  {
   "cell_type": "code",
   "execution_count": null,
   "metadata": {},
   "outputs": [],
   "source": [
    "# 데이터 프레임 출력\n"
   ]
  },
  {
   "cell_type": "code",
   "execution_count": null,
   "metadata": {},
   "outputs": [],
   "source": [
    "# 메타 데이터 확인\n"
   ]
  },
  {
   "cell_type": "markdown",
   "metadata": {},
   "source": [
    "## Q1"
   ]
  },
  {
   "cell_type": "markdown",
   "metadata": {},
   "source": [
    "```\n",
    "Passengers를 정규분포로 변환하기 위해 Box-Cox 변환을 수행하고자 한다. \n",
    "\n",
    "Box-Cox 변환을 위한 최적의 람다를 구하시오. 소수점 다섯째 자리에서 반올림 하여 넷째 자리까지 기술하시오.\n",
    "(답안예시) 1.2345\n",
    "```"
   ]
  },
  {
   "cell_type": "markdown",
   "metadata": {},
   "source": [
    "<img src=\"https://miro.medium.com/max/884/1*_nHvGg-OQYtNSSZph-424g.png\" style=\"float: left; margin: 0px 15px 15px 0px; width: 300px;\"/>"
   ]
  },
  {
   "cell_type": "markdown",
   "metadata": {},
   "source": [
    "Box-Cox 변환\n",
    "\n",
    "[scipy.stats.boxcox](https://docs.scipy.org/doc/scipy/reference/generated/scipy.stats.boxcox.html)"
   ]
  },
  {
   "cell_type": "code",
   "execution_count": null,
   "metadata": {},
   "outputs": [],
   "source": [
    "# Box-Cox 변환\n",
    "boxcox = # 코드 입력"
   ]
  },
  {
   "cell_type": "code",
   "execution_count": null,
   "metadata": {},
   "outputs": [],
   "source": [
    "# 최적의 람다 출력\n"
   ]
  },
  {
   "cell_type": "markdown",
   "metadata": {},
   "source": [
    "**정답: 0.1480**"
   ]
  },
  {
   "cell_type": "markdown",
   "metadata": {},
   "source": [
    "## Q 2-1"
   ]
  },
  {
   "cell_type": "markdown",
   "metadata": {},
   "source": [
    "다음과 같이 6개 변수를 생성한 후, 질문에 답하시오.\n",
    "\n",
    "- Passengers_optimal : 이전에 구한 최적의 람다로 Box-Cox변환한 Passengers\n",
    "- Passengers_lam0, Passengers_lam1 : Box-Cox의 람다를 각각 0,1로 하여 Box-Cox 변환한 Passengers\n",
    "- Passengers_ln, Passengers_log, Passengers_sqrt : Passengers를 자연로그, 상용로그, 제곱근 변환한 Passengers "
   ]
  },
  {
   "cell_type": "code",
   "execution_count": null,
   "metadata": {},
   "outputs": [],
   "source": [
    "# 이전에 구한 최적의 람다로 Box-Cox변환한 Passengers\n",
    "Passengers_optimal = # 코드 입력\n",
    "# Box-Cox의 람다를 0으로 변환\n",
    "Passengers_lam0 = # 코드 입력\n",
    "# Box-Cox의 람다를 1로 변환\n",
    "Passengers_lam1 = # 코드 입력\n",
    "# 자연로그\n",
    "Passengers_ln = # 코드 입력\n",
    "# 상용로그\n",
    "Passengers_log = # 코드 입력\n",
    "# 제곱근변환\n",
    "Passengers_sqrt = # 코드 입력"
   ]
  },
  {
   "cell_type": "code",
   "execution_count": null,
   "metadata": {},
   "outputs": [],
   "source": [
    "passengers = {\n",
    "    'Passengers_optimal': Passengers_optimal, \n",
    "    'Passengers_lam0': Passengers_lam0, \n",
    "    'Passengers_lam1': Passengers_lam1, \n",
    "    'Passengers_ln': Passengers_ln, \n",
    "    'Passengers_log': Passengers_log, \n",
    "    'Passengers_sqrt': Passengers_sqrt,\n",
    "}"
   ]
  },
  {
   "cell_type": "code",
   "execution_count": null,
   "metadata": {},
   "outputs": [],
   "source": [
    "# 시각화\n",
    "fig, axes = plt.subplots(2, 3)\n",
    "fig.set_size_inches(10, 6)\n",
    "for i, (k, v) in enumerate(passengers.items()):\n",
    "    axes[i // 3, i % 3].hist(v)\n",
    "    axes[i // 3, i % 3].set_title(k)\n",
    "plt.tight_layout()\n",
    "plt.show()"
   ]
  },
  {
   "cell_type": "code",
   "execution_count": null,
   "metadata": {},
   "outputs": [],
   "source": [
    "for k, v in passengers.items():\n",
    "    print(f'{k}    \\t{sp.stats.skew(v):.4f}')"
   ]
  },
  {
   "cell_type": "markdown",
   "metadata": {},
   "source": [
    "**정답: -0.0212**"
   ]
  },
  {
   "cell_type": "markdown",
   "metadata": {},
   "source": [
    "## Q 2-2"
   ]
  },
  {
   "cell_type": "markdown",
   "metadata": {},
   "source": [
    "```\n",
    "Passengers 와 새로 생성한 6개 변수에 대해 Jarque–Bera test로 정규성 검정을 수행할 때, \n",
    "유의수준 5%에서 정규성을 만족하는 변수를 모두 고르시오.\n",
    "\n",
    "(답안예시) Passengers, Passengers_lam0\n",
    "```"
   ]
  },
  {
   "cell_type": "markdown",
   "metadata": {},
   "source": [
    "[scipy.stats.jarque_bera](https://docs.scipy.org/doc/scipy/reference/generated/scipy.stats.jarque_bera.html)"
   ]
  },
  {
   "cell_type": "code",
   "execution_count": null,
   "metadata": {},
   "outputs": [],
   "source": [
    "# Jarque-Bera Test를 통한 정규성 검정\n"
   ]
  },
  {
   "cell_type": "markdown",
   "metadata": {},
   "source": [
    "**정답: Passengers_optimal, Passengers_sqrt**"
   ]
  },
  {
   "cell_type": "markdown",
   "metadata": {},
   "source": [
    "## Q 2-3"
   ]
  },
  {
   "cell_type": "markdown",
   "metadata": {},
   "source": [
    "```\n",
    "Passengers, Passengers_optimal에 대해 히스토그램과 Q-Q plot을 그리시오.\n",
    "```"
   ]
  },
  {
   "cell_type": "markdown",
   "metadata": {},
   "source": [
    "Q-Q plot은 normal dist를 따를 때, quantile value와 현재 데이터 분포 상에서의 quantile 값을 scattering해주는 것과 비슷합니다.\n",
    "\n",
    "plotting 결과가 선형 상에서 삐뚤게 나타나면, normal dist를 따르지 않고, 따르면 normal dist라고만 우선을 생각하셔도 크게 문제는 없습니다."
   ]
  },
  {
   "cell_type": "code",
   "execution_count": null,
   "metadata": {},
   "outputs": [],
   "source": [
    "from scipy.stats import probplot\n",
    "\n",
    "fig, axes = plt.subplots(1, 2)\n",
    "fig.set_size_inches(10, 5)\n",
    "sns.histplot(df['Passengers'], ax=axes[0])\n",
    "# Q-Q Plot\n",
    "# 코드입력\n",
    "axes[0].set_title('Passengers (Histogram)')\n",
    "axes[1].set_title('Passengers (Q-Q Plot)')\n",
    "plt.show()\n",
    "\n",
    "fig, axes = plt.subplots(1, 2)\n",
    "fig.set_size_inches(10, 5)\n",
    "sns.histplot(Passengers_optimal, ax=axes[0])\n",
    "# Q-Q Plot \n",
    "# 코드입력\n",
    "axes[0].set_title('Passengers_optimal (Histogram)')\n",
    "axes[1].set_title('Passengers_optimal (Q-Q Plot)')\n",
    "plt.show()"
   ]
  }
 ],
 "metadata": {
  "kernelspec": {
   "display_name": "Python 3",
   "language": "python",
   "name": "python3"
  },
  "language_info": {
   "codemirror_mode": {
    "name": "ipython",
    "version": 3
   },
   "file_extension": ".py",
   "mimetype": "text/x-python",
   "name": "python",
   "nbconvert_exporter": "python",
   "pygments_lexer": "ipython3",
   "version": "3.7.4"
  }
 },
 "nbformat": 4,
 "nbformat_minor": 5
}
