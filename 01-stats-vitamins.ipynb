{
 "cells": [
  {
   "cell_type": "markdown",
   "metadata": {},
   "source": [
    "# 제조사별 비타민 함유량 차이 분석"
   ]
  },
  {
   "cell_type": "markdown",
   "metadata": {},
   "source": [
    "각 시리얼 식품과 관련된 영양소 등 데이터를 분석하시오\n",
    "\n",
    "data: `cereal.csv`"
   ]
  },
  {
   "cell_type": "code",
   "execution_count": null,
   "metadata": {},
   "outputs": [],
   "source": [
    "import pandas as pd\n",
    "import scipy as sp\n",
    "import numpy as np\n",
    "import matplotlib.pyplot as plt\n",
    "import seaborn as sns"
   ]
  },
  {
   "cell_type": "code",
   "execution_count": null,
   "metadata": {},
   "outputs": [],
   "source": [
    "# 데이터 로드 (cereal.csv)\n",
    "df = # 코드입력"
   ]
  },
  {
   "cell_type": "code",
   "execution_count": null,
   "metadata": {},
   "outputs": [],
   "source": [
    "# 데이터 프레임 출력\n",
    "df"
   ]
  },
  {
   "cell_type": "code",
   "execution_count": null,
   "metadata": {},
   "outputs": [],
   "source": [
    "# 메타 데이터 확인\n",
    "df.# 코드입력"
   ]
  },
  {
   "cell_type": "markdown",
   "metadata": {},
   "source": [
    "'mfr'의 분포 확인"
   ]
  },
  {
   "cell_type": "code",
   "execution_count": null,
   "metadata": {},
   "outputs": [],
   "source": [
    "# mfr 분포 확인\n",
    "df['mfr'].# 코드입력"
   ]
  },
  {
   "cell_type": "markdown",
   "metadata": {},
   "source": [
    "## 스케일 변환"
   ]
  },
  {
   "cell_type": "markdown",
   "metadata": {},
   "source": [
    "vitamins 컬럼에 대한 z-scale 변환"
   ]
  },
  {
   "cell_type": "code",
   "execution_count": null,
   "metadata": {},
   "outputs": [],
   "source": [
    "# 스케일 변환 \n",
    "from sklearn.preprocessing import StandardScaler\n",
    "\n",
    "scaler = # 코드입력\n",
    "vitamin_scaled = scaler.# 코드입력"
   ]
  },
  {
   "cell_type": "code",
   "execution_count": null,
   "metadata": {},
   "outputs": [],
   "source": [
    "# 데이터 프레임에 변환 데이터 칼럼 추가\n",
    "df['vitamin_scaled'] = vitamin_scaled"
   ]
  },
  {
   "cell_type": "code",
   "execution_count": null,
   "metadata": {},
   "outputs": [],
   "source": [
    "df"
   ]
  },
  {
   "cell_type": "markdown",
   "metadata": {},
   "source": [
    "```\n",
    "'mfr'에 따라 'vitamins'의 평균값에 차이가 있는지(양측검정)를 검정하고자 한다. 'mfr'이 'K', 'G'인 경우만을 필터한 후 다음 질문에 답하시오\n",
    "```"
   ]
  },
  {
   "cell_type": "code",
   "execution_count": null,
   "metadata": {},
   "outputs": [],
   "source": [
    "# 'mfr' == 'K'의 vitamins_scaled \n",
    "K = # 코드입력"
   ]
  },
  {
   "cell_type": "code",
   "execution_count": null,
   "metadata": {},
   "outputs": [],
   "source": [
    "# 'mfr' == 'G'의 vitamins_scaled \n",
    "G = # 코드입력"
   ]
  },
  {
   "cell_type": "markdown",
   "metadata": {},
   "source": [
    "## Q 1-1"
   ]
  },
  {
   "cell_type": "markdown",
   "metadata": {},
   "source": [
    "```\n",
    "mfr’에 따라 'vitamins'의 평균값에 차이가 있는지(양측검정)를 검정하고자 한다. \n",
    "\n",
    "'vitamins'은 정규분포를 따르며, 'mfr'별로 등분산(std error 같다)임을 가정할 때, 적절한 방법으로 가설을 검정할 때, 유의확률(p-value)을 구하시오. 소수점 다섯째 자리에서 반올림 하여 넷째 자리까지 기술하시오.\n",
    "(답안예시) 0.1234\n",
    "```"
   ]
  },
  {
   "cell_type": "code",
   "execution_count": null,
   "metadata": {},
   "outputs": [],
   "source": [
    "K.mean(), G.mean()"
   ]
  },
  {
   "cell_type": "markdown",
   "metadata": {},
   "source": [
    "2개의 샘플에 대한 평균 값 차이 양측검정(Two-Tailed Test)는 scipy.stats의 ttest_ind를 사용한다\n",
    "\n",
    "[ttest_ind](https://docs.scipy.org/doc/scipy/reference/generated/scipy.stats.ttest_ind.html): Calculate the T-test for the means of two independent samples of scores."
   ]
  },
  {
   "cell_type": "code",
   "execution_count": null,
   "metadata": {},
   "outputs": [],
   "source": [
    "from scipy.stats import ttest_ind\n",
    "\n",
    "####\n",
    "# Parameters\n",
    "# a, b: 두 집단\n",
    "# equal_var: 두 집단의 variance가 같은지, 다른지를 측정함. True일 경우는 같다고, False일 경우에는 다르다고 하며, 다른 테스트를 수행함.\n",
    "####\n",
    "p_value = # 코드입력\n",
    "\n",
    "print(f\"p_value  : {p_value:.4f}\")"
   ]
  },
  {
   "cell_type": "markdown",
   "metadata": {},
   "source": [
    "p-value 값이 H1을 기각하므로, H0를 채택한다. \n",
    "\n",
    "즉 평균 값은 같다"
   ]
  },
  {
   "cell_type": "markdown",
   "metadata": {},
   "source": [
    "**정답: 0.9547**"
   ]
  },
  {
   "cell_type": "markdown",
   "metadata": {},
   "source": [
    "## Q 1-2"
   ]
  },
  {
   "cell_type": "markdown",
   "metadata": {},
   "source": [
    "```\n",
    "'mfr'별 'vitamins'이 정규분포를 따르는지 정규성 검정을 수행하고, 정규분포를 따르는지의 여부에 따라 다음의 가설을 검정하고 유의확률을 구하시오. 소수점 다섯째 자리에서 반올림 하여 넷째 자리까지 기술하시오.\n",
    "\n",
    "-\t정규분포를 따른다면, 다음의 가설을 검정한다. \n",
    "H1 : ‘mfr’에 따라 'vitamins' 모집단의 평균이 다르다. (μ1≠μ2)\n",
    "\n",
    "-\t정규분포를 따르지 않는다면, 다음의 가설을 검정한다.\n",
    "H1 : ‘mfr’에 따라 'vitamins' 모집단의 중위수가 다르다. (M1≠M2)\n",
    "\n",
    "Note. Kolmogorov-Smirnov test로 정규성 검정을 수행한다.\n",
    "(답안예시) 0.1234\n",
    "```"
   ]
  },
  {
   "cell_type": "markdown",
   "metadata": {},
   "source": [
    "**Normality Test**\n",
    "\n",
    "회귀 분석 등에서는 확률 분포가 가우시안 정규 분포를 따르는지 아닌지를 확인하는 것이 중요하다. 이러한 검정을 정규성 검정(normality test)이라고 한다. 정규성 분포 그 중요도 만큼 여러가지 검정 방법들이 개발되어 있으며 Scipy 패키지 이외에도 statsmodels 패키지에도 다양한 정규성 검정 명령어를 제공한다.\n",
    "\n",
    "**Kolmogorov-Smirnov test**\n",
    "\n",
    "[scipy.stats.kstest](https://docs.scipy.org/doc/scipy/reference/generated/scipy.stats.kstest.html)"
   ]
  },
  {
   "cell_type": "code",
   "execution_count": null,
   "metadata": {},
   "outputs": [],
   "source": [
    "# K에 대한 Normality Test\n",
    "kstest_k = # 코드입력\n",
    "print(kstest_k)"
   ]
  },
  {
   "cell_type": "code",
   "execution_count": null,
   "metadata": {},
   "outputs": [],
   "source": [
    "# G에 대한 Normality Test\n",
    "kstest_g = # 코드입력\n",
    "print(kstest_g)"
   ]
  },
  {
   "cell_type": "markdown",
   "metadata": {},
   "source": [
    "p-value는 0.05보다 작을 때 H1이 채택되므로, 즉 K, G는 **정규분포가 아니다**"
   ]
  },
  {
   "cell_type": "code",
   "execution_count": null,
   "metadata": {},
   "outputs": [],
   "source": [
    "# 시각화 및 확인\n",
    "fig, axes = plt.subplots(1, 2)\n",
    "fig.set_size_inches(9, 5)\n",
    "sns.histplot(K, ax=axes[0])\n",
    "sns.histplot(G, ax=axes[1])\n",
    "plt.show()"
   ]
  },
  {
   "cell_type": "markdown",
   "metadata": {},
   "source": [
    "```\n",
    "정규분포를 따르지 않는다면, 다음의 가설을 검정한다.\n",
    "H1 : ‘mfr’에 따라 'vitamins' 모집단의 중위수가 다르다. (M1≠M2)\n",
    "```"
   ]
  },
  {
   "cell_type": "markdown",
   "metadata": {},
   "source": [
    "**중위수 검정**\n",
    "\n",
    "비모수 중위수 검정으로는 Mann-Whitney Test를 사용한다.\n",
    "\n",
    "[scipy.stats.mannwhitneyu](https://docs.scipy.org/doc/scipy/reference/generated/scipy.stats.mannwhitneyu.html)"
   ]
  },
  {
   "cell_type": "code",
   "execution_count": null,
   "metadata": {},
   "outputs": [],
   "source": [
    "# 중위수 검정\n",
    "pvalue = sp.stats.mannwhitneyu(K, G).pvalue\n",
    "f'p-value: {pvalue:.4f}'"
   ]
  },
  {
   "cell_type": "markdown",
   "metadata": {},
   "source": [
    "**정답: 0.4846**"
   ]
  },
  {
   "cell_type": "markdown",
   "metadata": {},
   "source": [
    "## Q 2-1"
   ]
  },
  {
   "cell_type": "markdown",
   "metadata": {},
   "source": [
    "```\n",
    "'mfr' (K,G,others로 구성)에 따라 'vitamins'의 평균값에 차이가 있는지(양측검정)를 검정하고자 한다.\n",
    "```"
   ]
  },
  {
   "cell_type": "code",
   "execution_count": null,
   "metadata": {},
   "outputs": [],
   "source": [
    "df['mfr'].value_counts()"
   ]
  },
  {
   "cell_type": "code",
   "execution_count": null,
   "metadata": {},
   "outputs": [],
   "source": [
    "# K, G, others로 구성된 'mfr' 변환 함수 정의 \n",
    "def convert_mfr(x):\n",
    "    # 코드입력\n",
    "    \n",
    "    "
   ]
  },
  {
   "cell_type": "code",
   "execution_count": null,
   "metadata": {},
   "outputs": [],
   "source": [
    "# 정의된 함수가 적용된 'mfr_clean' 칼럼 생성\n",
    "df['mfr_clean'] = df['mfr'].# 코드입력\n",
    "df['mfr_clean'].value_counts()"
   ]
  },
  {
   "cell_type": "code",
   "execution_count": null,
   "metadata": {},
   "outputs": [],
   "source": [
    "# K, G, Others 샘플 구성\n",
    "K = # 코드입력\n",
    "G = # 코드입력\n",
    "Others = # 코드입력"
   ]
  },
  {
   "cell_type": "markdown",
   "metadata": {},
   "source": [
    "```\n",
    "'mfr' 에 따라 'vitamins'의 평균값에 차이가 있는지(양측검정)를 검정하고자 한다. \n",
    "'vitamins'은 정규분포를 따르며 'mfr'별로 등분산임을 가정하여 적절한 방법으로 가설을 검정하고, 유의확률을 구하시오. \n",
    "\n",
    "소수점 다섯째 자리에서 반올림 하여 넷째 자리까지 기술하시오.\n",
    "(답안예시) 0.1234\n",
    "```"
   ]
  },
  {
   "cell_type": "markdown",
   "metadata": {},
   "source": [
    "샘플이 3개 이상일 경우 One-way ANOVA Test를 사용한다.\n",
    "\n",
    "[scipy.stats.f_oneway](https://docs.scipy.org/doc/scipy/reference/generated/scipy.stats.f_oneway.html)\n",
    "\n",
    "H1: 3개의 샘플의 평균이 같지 않다"
   ]
  },
  {
   "cell_type": "code",
   "execution_count": null,
   "metadata": {},
   "outputs": [],
   "source": [
    "# 'mfr' 에 따라 'vitamins'의 평균값에 차이가 있는지(양측검정)를 검정\n",
    "# One-way ANOVA Test\n",
    "pvalue = # 코드입력`"
   ]
  },
  {
   "cell_type": "code",
   "execution_count": null,
   "metadata": {},
   "outputs": [],
   "source": [
    "# 소수점 다섯째 자리에서 반올림하여 넷째 자리까지 출력\n"
   ]
  },
  {
   "cell_type": "markdown",
   "metadata": {},
   "source": [
    "**정답: 0.0057**"
   ]
  },
  {
   "cell_type": "markdown",
   "metadata": {},
   "source": [
    "## Q 2-2"
   ]
  },
  {
   "cell_type": "markdown",
   "metadata": {},
   "source": [
    "```\n",
    "'mfr'별 'vitamins'이 정규분포를 따르는지 정규성 검정을 수행하고, 정규분포를 따르는지의 여부에 따라 다음의 가설을 검정하고 유의확률을 구하시오. 소수점 다섯째 자리에서 반올림 하여 넷째 자리까지 기술하시오.\n",
    "```"
   ]
  },
  {
   "cell_type": "code",
   "execution_count": null,
   "metadata": {},
   "outputs": [],
   "source": [
    "# K에 대한 Normality Test\n",
    "print(  # 코드입력   )\n",
    "\n",
    "# G에 대한 Normality Test\n",
    "print(  # 코드입력   )\n",
    "\n",
    "# Other에 대한 Normality Test\n",
    "print(  # 코드입력   )"
   ]
  },
  {
   "cell_type": "markdown",
   "metadata": {},
   "source": [
    "pvalue가 모두 0.05보다 작다.\n",
    "\n",
    "즉, H1이 채택 되므로, \"Normality 하지 않다\"가 채택"
   ]
  },
  {
   "cell_type": "code",
   "execution_count": null,
   "metadata": {},
   "outputs": [],
   "source": [
    "# 시각화 및 확인\n",
    "fig, axes = plt.subplots(1, 3)\n",
    "fig.set_size_inches(14, 5)\n",
    "sns.histplot(K, ax=axes[0])\n",
    "sns.histplot(G, ax=axes[1])\n",
    "sns.histplot(Others, ax=axes[2])\n",
    "plt.show()"
   ]
  },
  {
   "cell_type": "markdown",
   "metadata": {},
   "source": [
    "```\n",
    "-\t정규분포를 따른다면, 다음의 가설을 검정한다. \n",
    "H1 : ‘mfr’에 따라 'vitamins' 모집단의 평균이 모두 같지는 않다. 즉 적어도 하나의 모집단 평균값은 다른 모집단 평균값들과는 다르다. Not (μ1=μ2=μ3)\n",
    "\n",
    "-\t정규분포를 따르지 않는다면, 다음의 가설을 검정한다.\n",
    "H1 : ‘mfr’에 따라 'vitamins' 모집단의 중위수가 모두 같지는 않다. 즉 적어도 하나의 모집단 중앙값은 다른 모집단 중앙값들과는 다르다. Not (M1=M2=M3)\n",
    "\n",
    "Note. Kolmogorov-Smirnov test로 정규성 검정을 수행한다.\n",
    "(답안예시) 0.1234\n",
    "```"
   ]
  },
  {
   "cell_type": "markdown",
   "metadata": {},
   "source": [
    "3개의 샘플에 대한 중위성 검증은 Kruskal-Wallis H-test를 사용한다.\n",
    "\n",
    "[scipy.stats.kruskal](https://docs.scipy.org/doc/scipy/reference/generated/scipy.stats.kruskal.html)\n",
    "\n",
    "H1: 3개 샘플에 대한 중위값이 다르다."
   ]
  },
  {
   "cell_type": "code",
   "execution_count": null,
   "metadata": {},
   "outputs": [],
   "source": [
    "# Kruskal-Wallis H-test\n",
    "pvalue = # 코드입력"
   ]
  },
  {
   "cell_type": "code",
   "execution_count": null,
   "metadata": {},
   "outputs": [],
   "source": [
    "# 소수점 다섯째 자리에서 반올림하여 넷째 자리까지 출력\n"
   ]
  },
  {
   "cell_type": "markdown",
   "metadata": {},
   "source": [
    "**정답: 0.0005**"
   ]
  }
 ],
 "metadata": {
  "kernelspec": {
   "display_name": "Python 3",
   "language": "python",
   "name": "python3"
  },
  "language_info": {
   "codemirror_mode": {
    "name": "ipython",
    "version": 3
   },
   "file_extension": ".py",
   "mimetype": "text/x-python",
   "name": "python",
   "nbconvert_exporter": "python",
   "pygments_lexer": "ipython3",
   "version": "3.7.4"
  }
 },
 "nbformat": 4,
 "nbformat_minor": 5
}
